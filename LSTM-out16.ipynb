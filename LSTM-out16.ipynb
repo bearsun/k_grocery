{
 "cells": [
  {
   "cell_type": "code",
   "execution_count": 1,
   "metadata": {
    "scrolled": true
   },
   "outputs": [
    {
     "name": "stderr",
     "output_type": "stream",
     "text": [
      "/home/tselab/anaconda3/lib/python3.6/site-packages/h5py/__init__.py:34: FutureWarning: Conversion of the second argument of issubdtype from `float` to `np.floating` is deprecated. In future, it will be treated as `np.float64 == np.dtype(float).type`.\n",
      "  from ._conv import register_converters as _register_converters\n",
      "Using TensorFlow backend.\n",
      "/home/tselab/anaconda3/lib/python3.6/importlib/_bootstrap.py:219: RuntimeWarning: compiletime version 3.5 of module 'tensorflow.python.framework.fast_tensor_util' does not match runtime version 3.6\n",
      "  return f(*args, **kwds)\n"
     ]
    }
   ],
   "source": [
    "from datetime import date, timedelta\n",
    "import pandas as pd\n",
    "import numpy as np\n",
    "from sklearn.preprocessing import MinMaxScaler\n",
    "from sklearn.metrics import mean_squared_error\n",
    "from keras.models import Sequential\n",
    "from keras.layers.core import Dense, Dropout, Activation\n",
    "from keras.layers import LSTM"
   ]
  },
  {
   "cell_type": "code",
   "execution_count": 2,
   "metadata": {
    "collapsed": true
   },
   "outputs": [],
   "source": [
    "# from keras.utils import to_categorical"
   ]
  },
  {
   "cell_type": "code",
   "execution_count": 3,
   "metadata": {
    "collapsed": true
   },
   "outputs": [],
   "source": [
    "# df_train = pd.read_csv('train.csv', dtype={'onpromotion': bool},\n",
    "#                        converters={'unit_sales': lambda u: np.log1p(float(u)) if float(u) > 0 else 0},\n",
    "#                        parse_dates=[\"date\"], skiprows=range(1, 66458909))"
   ]
  },
  {
   "cell_type": "code",
   "execution_count": 4,
   "metadata": {
    "collapsed": true
   },
   "outputs": [],
   "source": [
    "#df_train = df_train_raw.loc[df_train_raw['date']>=pd.datetime(2016,1,1)]"
   ]
  },
  {
   "cell_type": "code",
   "execution_count": 5,
   "metadata": {
    "collapsed": true
   },
   "outputs": [],
   "source": [
    "# train on 2017 data\n",
    "df_train = pd.read_csv('train.csv', dtype={'onpromotion': bool},\n",
    "                       converters={'unit_sales': lambda u: np.log1p(float(u)) if float(u) > 0 else 0},\n",
    "                       parse_dates=[\"date\"], skiprows = range(1,101688780))"
   ]
  },
  {
   "cell_type": "code",
   "execution_count": 6,
   "metadata": {
    "collapsed": true
   },
   "outputs": [],
   "source": [
    "date_index = pd.date_range(df_train['date'].min(), df_train['date'].max())"
   ]
  },
  {
   "cell_type": "code",
   "execution_count": 7,
   "metadata": {
    "collapsed": true
   },
   "outputs": [],
   "source": [
    "df_test = pd.read_csv(\"test.csv\", dtype={'onpromotion': bool}, parse_dates=[\"date\"]).set_index(['store_nbr', 'item_nbr', 'date'])"
   ]
  },
  {
   "cell_type": "code",
   "execution_count": 8,
   "metadata": {
    "collapsed": true
   },
   "outputs": [],
   "source": [
    "items = pd.read_csv(\"items.csv\").set_index(\"item_nbr\")"
   ]
  },
  {
   "cell_type": "code",
   "execution_count": 9,
   "metadata": {
    "collapsed": true
   },
   "outputs": [],
   "source": [
    "# flatten promo across dates\n",
    "promo_train = df_train.set_index([\"store_nbr\", \"item_nbr\", \"date\"])[[\"onpromotion\"]].unstack(level=-1).fillna(False)\n",
    "promo_train.columns = promo_train.columns.get_level_values(1)\n",
    "promo_test = df_test[[\"onpromotion\"]].unstack(level=-1).fillna(False)\n",
    "promo_test.columns = promo_test.columns.get_level_values(1)\n",
    "promo_train = promo_train.reindex(date_index.values, axis = 1).fillna(False)\n",
    "promo_test = promo_test.reindex(promo_train.index).fillna(False) #align two ds, disregard missing test items \n",
    "# promo = pd.concat([promo_train, promo_test], axis=1)\n",
    "# del promo_test, promo_train"
   ]
  },
  {
   "cell_type": "code",
   "execution_count": 10,
   "metadata": {
    "collapsed": true
   },
   "outputs": [],
   "source": [
    "df_train = df_train.set_index([\"store_nbr\", \"item_nbr\", \"date\"])[\"unit_sales\"].unstack(level=-1).fillna(0)\n",
    "df_train = df_train.reindex(date_index.values, axis = 1).fillna(0)"
   ]
  },
  {
   "cell_type": "code",
   "execution_count": 11,
   "metadata": {
    "collapsed": true
   },
   "outputs": [],
   "source": [
    "items = items.reindex(df_train.index.get_level_values(1)) #delete items not in train, align item index to train index"
   ]
  },
  {
   "cell_type": "code",
   "execution_count": 12,
   "metadata": {
    "collapsed": true
   },
   "outputs": [],
   "source": [
    "df_train = df_train.iloc[:,3:] #start from 2017-01-04 to 2017-08-15"
   ]
  },
  {
   "cell_type": "code",
   "execution_count": 13,
   "metadata": {
    "collapsed": true
   },
   "outputs": [],
   "source": [
    "sale_scaler = MinMaxScaler()\n",
    "sale_scaler.fit(df_train.values.reshape(-1, 1))\n",
    "ds_train = sale_scaler.transform(df_train)"
   ]
  },
  {
   "cell_type": "code",
   "execution_count": 14,
   "metadata": {
    "collapsed": true
   },
   "outputs": [],
   "source": [
    "promo_train = promo_train.iloc[:,3:].astype('int')"
   ]
  },
  {
   "cell_type": "code",
   "execution_count": 15,
   "metadata": {
    "collapsed": true
   },
   "outputs": [],
   "source": [
    "# def length_of_month(d):\n",
    "#     return (d.replace(month=d.month+1, day=1) - d.replace(day=1)).days\n",
    "# def last_day_of_month(d):\n",
    "#     return d.replace(month=d.month+1, day=1) - timedelta(days=1)"
   ]
  },
  {
   "cell_type": "code",
   "execution_count": 16,
   "metadata": {
    "collapsed": true
   },
   "outputs": [],
   "source": [
    "ds_dow_train = np.tile(df_train.columns.dayofweek.values/6, (df_train.shape[0],1)) #progression in a week"
   ]
  },
  {
   "cell_type": "code",
   "execution_count": 17,
   "metadata": {
    "collapsed": true
   },
   "outputs": [],
   "source": [
    "len_month = {1:31, 2:30, 3:31, 4:30, 5:31, 6:30, 7:31, 8:31}\n",
    "ds_dom_train = np.tile(df_train.columns.day.values/np.vectorize(len_month.get)(df_train.columns.month.values), (df_train.shape[0],1))#progression in a month"
   ]
  },
  {
   "cell_type": "code",
   "execution_count": 18,
   "metadata": {
    "collapsed": true
   },
   "outputs": [],
   "source": [
    "# concat all timestep data into [nsamples, ntimesteps, nfeatures]"
   ]
  },
  {
   "cell_type": "code",
   "execution_count": 19,
   "metadata": {
    "collapsed": true
   },
   "outputs": [],
   "source": [
    "ds_train = np.reshape(ds_train[:,:-1], (df_train.shape[0],df_train.shape[1]-1,1)) # last day's sale, shift forward\n",
    "promo_train = np.reshape(promo_train.values[:,1:],(df_train.shape[0],df_train.shape[1]-1,1)) #today's promo\n",
    "ds_dow_train = np.reshape(ds_dow_train[:,1:], (df_train.shape[0],df_train.shape[1]-1,1))\n",
    "ds_dom_train = np.reshape(ds_dom_train[:,1:], (df_train.shape[0],df_train.shape[1]-1,1))\n",
    "dtrain = np.concatenate((ds_train,promo_train,ds_dow_train,ds_dom_train), axis = 2)"
   ]
  },
  {
   "cell_type": "code",
   "execution_count": 20,
   "metadata": {
    "collapsed": true
   },
   "outputs": [],
   "source": [
    "def prep_data(data, ydata, anchor, colindex, lookback = 40, train = True):\n",
    "    ianchor = np.argwhere(colindex == anchor)[0][0]\n",
    "    xout = data[:,(ianchor-lookback-1):(ianchor-1),:] #last day's price, today's promo\n",
    "    if train:\n",
    "        yout = ydata[:, ianchor]\n",
    "        return xout,yout\n",
    "    return xout"
   ]
  },
  {
   "cell_type": "code",
   "execution_count": 21,
   "metadata": {
    "collapsed": true
   },
   "outputs": [],
   "source": [
    "train_start = date(2017,8,1)\n",
    "train_end = date(2017,8,15)\n",
    "ndays = (train_end-train_start).days"
   ]
  },
  {
   "cell_type": "code",
   "execution_count": 22,
   "metadata": {
    "collapsed": true
   },
   "outputs": [],
   "source": [
    "X_l = []\n",
    "y_l = []\n",
    "for i in range(ndays):\n",
    "    anchor = (train_start + timedelta(days=i)).strftime('%Y-%m-%d')\n",
    "    X_temp, y_temp = prep_data(dtrain, df_train.values, anchor, df_train.columns)\n",
    "    X_l.append(X_temp)\n",
    "    y_l.append(y_temp)\n",
    "X_train = np.concatenate(X_l, axis = 0)\n",
    "y_train = np.concatenate(y_l, axis = 0)\n",
    "del X_l, y_l\n",
    "X_val, y_val = prep_data(dtrain, df_train.values, '2017-08-15', df_train.columns)"
   ]
  },
  {
   "cell_type": "code",
   "execution_count": 48,
   "metadata": {},
   "outputs": [],
   "source": [
    "model = Sequential()\n",
    "model.add(LSTM(32, return_sequences=True,\n",
    "               input_shape=(X_train.shape[1], X_train.shape[2])))\n",
    "model.add(LSTM(32, return_sequences=True))  # returns a sequence of vectors of dimension 32\n",
    "model.add(LSTM(32))  # return a single vector of dimension 32\n",
    "model.add(Dense(1))\n",
    "model.compile(loss='mse',\n",
    "              optimizer='adam',\n",
    "              metrics=['mse'])"
   ]
  },
  {
   "cell_type": "code",
   "execution_count": 49,
   "metadata": {},
   "outputs": [
    {
     "name": "stdout",
     "output_type": "stream",
     "text": [
      "Train on 2345210 samples, validate on 167515 samples\n",
      "Epoch 1/4\n",
      "2345210/2345210 [==============================] - 452s 193us/step - loss: 0.4232 - mean_squared_error: 0.3991 - val_loss: 0.3594 - val_mean_squared_error: 0.3594\n",
      "Epoch 2/4\n",
      "2345210/2345210 [==============================] - 451s 192us/step - loss: 0.3848 - mean_squared_error: 0.3630 - val_loss: 0.3435 - val_mean_squared_error: 0.3435\n",
      "Epoch 3/4\n",
      "2345210/2345210 [==============================] - 451s 192us/step - loss: 0.3763 - mean_squared_error: 0.3550 - val_loss: 0.3411 - val_mean_squared_error: 0.3411\n",
      "Epoch 4/4\n",
      "2345210/2345210 [==============================] - 451s 192us/step - loss: 0.3707 - mean_squared_error: 0.3497 - val_loss: 0.3365 - val_mean_squared_error: 0.3365\n"
     ]
    },
    {
     "data": {
      "text/plain": [
       "<keras.callbacks.History at 0x7fde96496d30>"
      ]
     },
     "execution_count": 49,
     "metadata": {},
     "output_type": "execute_result"
    }
   ],
   "source": [
    "model.fit(X_train, y_train, sample_weight=(pd.concat([items[\"perishable\"]] * ndays) * 0.25 + 1).values,\n",
    "          batch_size=1024, epochs=4, verbose=1,\n",
    "          validation_data=(X_val, y_val))"
   ]
  },
  {
   "cell_type": "code",
   "execution_count": null,
   "metadata": {
    "collapsed": true
   },
   "outputs": [],
   "source": [
    "# model2 = Sequential()\n",
    "# model2.add(LSTM(32, return_sequences=True,\n",
    "#                input_shape=(X_train.shape[1], X_train.shape[2])))\n",
    "# model2.add(LSTM(32, return_sequences=True))  # returns a sequence of vectors of dimension 32\n",
    "# model2.add(LSTM(32))  # return a single vector of dimension 32\n",
    "# model2.add(Dense(1))\n",
    "# model2.compile(loss='mse',\n",
    "#               optimizer='adam',\n",
    "#               metrics=['mse'])"
   ]
  },
  {
   "cell_type": "code",
   "execution_count": null,
   "metadata": {
    "collapsed": true
   },
   "outputs": [],
   "source": [
    "# model2.fit(X_train, y_train,\n",
    "#           batch_size=df_train.shape[0], epochs=8, verbose=1, shuffle=False,\n",
    "#           validation_data=(X_val, y_val))"
   ]
  },
  {
   "cell_type": "code",
   "execution_count": 50,
   "metadata": {
    "collapsed": true
   },
   "outputs": [],
   "source": [
    "y_l = []"
   ]
  },
  {
   "cell_type": "code",
   "execution_count": 51,
   "metadata": {
    "collapsed": true
   },
   "outputs": [],
   "source": [
    "test_start = date(2017,8,16)"
   ]
  },
  {
   "cell_type": "code",
   "execution_count": 52,
   "metadata": {
    "collapsed": true
   },
   "outputs": [],
   "source": [
    "y_last = df_train.iloc[:,-1].values.reshape(-1,1)"
   ]
  },
  {
   "cell_type": "code",
   "execution_count": 53,
   "metadata": {
    "collapsed": true
   },
   "outputs": [],
   "source": [
    "def prep_test(dtrain, promo_test, y_last, test_day, lookback=40):\n",
    "    y_last = sale_scaler.transform(y_last)\n",
    "    dow = np.tile(test_day.weekday()/6, (dtrain.shape[0],1))\n",
    "    dom = np.tile(test_day.day/31, (dtrain.shape[0],1))\n",
    "    promo_day = promo_test[test_day.strftime('%Y-%m-%d')].astype('int').values.reshape(-1,1)\n",
    "    add = np.concatenate((y_last,promo_day,dow,dom),axis = 1).reshape(dtrain.shape[0],1,4)\n",
    "    dtrain = np.append(dtrain, add, axis=1)\n",
    "    return dtrain, dtrain[:,-lookback:]"
   ]
  },
  {
   "cell_type": "code",
   "execution_count": 54,
   "metadata": {
    "collapsed": true
   },
   "outputs": [],
   "source": [
    "for i in range(16):\n",
    "    test_day = test_start + timedelta(days = i)\n",
    "    dtrain, X_test = prep_test(dtrain, promo_test, y_last, test_day)\n",
    "    y_last = model.predict(X_test)\n",
    "    y_l.append(y_last)"
   ]
  },
  {
   "cell_type": "code",
   "execution_count": null,
   "metadata": {
    "collapsed": true
   },
   "outputs": [],
   "source": [
    "# print(\"Validation mse:\", mean_squared_error(\n",
    "#     y_val, model.predict(X_val))**0.5)"
   ]
  },
  {
   "cell_type": "code",
   "execution_count": 55,
   "metadata": {},
   "outputs": [
    {
     "name": "stdout",
     "output_type": "stream",
     "text": [
      "Making submission...\n"
     ]
    }
   ],
   "source": [
    "print(\"Making submission...\")\n",
    "y_test = np.array(y_l).squeeze().transpose()\n",
    "df_preds = pd.DataFrame(y_test, index=df_train.index, columns=pd.date_range(\"2017-08-16\", periods=16)\n",
    "                       ).stack().to_frame(\"unit_sales\")\n",
    "df_preds.index.set_names([\"store_nbr\", \"item_nbr\", \"date\"], inplace=True)"
   ]
  },
  {
   "cell_type": "code",
   "execution_count": 56,
   "metadata": {
    "collapsed": true
   },
   "outputs": [],
   "source": [
    "submission = df_test[[\"id\"]].join(df_preds, how=\"left\").fillna(0)\n",
    "submission[\"unit_sales\"] = np.clip(np.expm1(submission[\"unit_sales\"]), 0, 1000)\n",
    "submission.to_csv('lstm4.csv', float_format='%.4f', index=None)"
   ]
  },
  {
   "cell_type": "code",
   "execution_count": null,
   "metadata": {
    "collapsed": true
   },
   "outputs": [],
   "source": [
    "# predict unknown items by class average"
   ]
  },
  {
   "cell_type": "code",
   "execution_count": null,
   "metadata": {
    "collapsed": true
   },
   "outputs": [],
   "source": [
    "# # add class\n",
    "# df_preds2 = df_preds.unstack(-1)\n",
    "# item_idx = df_preds2.index.get_level_values(1)\n",
    "# df_preds2['class'] = items.reindex(item_idx)['class'].values\n",
    "# df_preds2['family'] = items.reindex(item_idx)['family'].values"
   ]
  },
  {
   "cell_type": "code",
   "execution_count": null,
   "metadata": {
    "collapsed": true,
    "scrolled": false
   },
   "outputs": [],
   "source": [
    "# class_pred = df_preds2.reset_index().drop(['item_nbr','family'], axis = 1).groupby(['store_nbr', 'class']).agg('mean')\n",
    "# class_pred = class_pred.stack()"
   ]
  },
  {
   "cell_type": "code",
   "execution_count": null,
   "metadata": {
    "collapsed": true
   },
   "outputs": [],
   "source": [
    "# # add family\n",
    "# family_pred = df_preds2.reset_index().drop(['item_nbr','class'], axis = 1).groupby(['store_nbr', 'family']).agg('mean')\n",
    "# family_pred = family_pred.stack()"
   ]
  },
  {
   "cell_type": "code",
   "execution_count": null,
   "metadata": {
    "collapsed": true
   },
   "outputs": [],
   "source": [
    "# submission = df_test[[\"id\"]].join(df_preds, how=\"left\")"
   ]
  },
  {
   "cell_type": "code",
   "execution_count": null,
   "metadata": {
    "collapsed": true
   },
   "outputs": [],
   "source": [
    "# item_idx = submission.index.get_level_values(1)"
   ]
  },
  {
   "cell_type": "code",
   "execution_count": null,
   "metadata": {
    "collapsed": true,
    "scrolled": true
   },
   "outputs": [],
   "source": [
    "# items = pd.read_csv(\"items.csv\").set_index(\"item_nbr\")"
   ]
  },
  {
   "cell_type": "code",
   "execution_count": null,
   "metadata": {
    "collapsed": true
   },
   "outputs": [],
   "source": [
    "# submission['class'] = items.reindex(item_idx)['class'].values\n",
    "# submission['family'] = items.reindex(item_idx)['family'].values"
   ]
  },
  {
   "cell_type": "code",
   "execution_count": null,
   "metadata": {
    "collapsed": true
   },
   "outputs": [],
   "source": [
    "# class_pred.rename(columns = {'unit_sales': 'class_sales'}, inplace = True)\n",
    "# submission = submission.reset_index().set_index(['store_nbr','class','date']).merge(class_pred, left_index = True,\n",
    "#                                                                       right_index = True, how = 'left')\n",
    "# submission['unit_sales'].fillna(submission['class_sales'], inplace = True)\n",
    "# submission.drop('class_sales', axis = 1, inplace = True)"
   ]
  },
  {
   "cell_type": "code",
   "execution_count": null,
   "metadata": {
    "collapsed": true
   },
   "outputs": [],
   "source": [
    "# family_pred.rename(columns = {'unit_sales': 'family_sales'}, inplace = True)\n",
    "# submission = submission.reset_index().set_index(['store_nbr','family','date']).merge(family_pred, left_index = True,\n",
    "#                                                                       right_index = True, how = 'left')\n",
    "# submission['unit_sales'].fillna(submission['family_sales'], inplace = True)\n",
    "# submission.drop('family_sales', axis = 1, inplace = True)"
   ]
  },
  {
   "cell_type": "code",
   "execution_count": null,
   "metadata": {
    "collapsed": true
   },
   "outputs": [],
   "source": [
    "# submission = submission.reset_index().drop(['family','class','store_nbr','item_nbr','date'], axis = 1).set_index(['id']).sort_index().fillna(0)"
   ]
  },
  {
   "cell_type": "code",
   "execution_count": null,
   "metadata": {
    "collapsed": true
   },
   "outputs": [],
   "source": [
    "# submission[\"unit_sales\"] = np.clip(np.expm1(submission[\"unit_sales\"]), 0, 1000)\n",
    "# submission.to_csv('default+meanclass.csv', float_format='%.4f')"
   ]
  }
 ],
 "metadata": {
  "kernelspec": {
   "display_name": "Python 3",
   "language": "python",
   "name": "python3"
  },
  "language_info": {
   "codemirror_mode": {
    "name": "ipython",
    "version": 3
   },
   "file_extension": ".py",
   "mimetype": "text/x-python",
   "name": "python",
   "nbconvert_exporter": "python",
   "pygments_lexer": "ipython3",
   "version": "3.6.3"
  }
 },
 "nbformat": 4,
 "nbformat_minor": 2
}
